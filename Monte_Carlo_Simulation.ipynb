{
  "nbformat": 4,
  "nbformat_minor": 0,
  "metadata": {
    "colab": {
      "provenance": [],
      "authorship_tag": "ABX9TyPCjmISZN58Q3Oy23VnsBgP",
      "include_colab_link": true
    },
    "kernelspec": {
      "name": "python3",
      "display_name": "Python 3"
    },
    "language_info": {
      "name": "python"
    }
  },
  "cells": [
    {
      "cell_type": "markdown",
      "metadata": {
        "id": "view-in-github",
        "colab_type": "text"
      },
      "source": [
        "<a href=\"https://colab.research.google.com/github/TahirRaheem/Monte-Carlo-app/blob/main/Monte_Carlo_Simulation.ipynb\" target=\"_parent\"><img src=\"https://colab.research.google.com/assets/colab-badge.svg\" alt=\"Open In Colab\"/></a>"
      ]
    },
    {
      "cell_type": "code",
      "execution_count": null,
      "metadata": {
        "id": "M9J4zU1uCf6u"
      },
      "outputs": [],
      "source": [
        "import numpy as np\n",
        "import matplotlib.pyplot as plt\n",
        "\n",
        "# Number of simulations\n",
        "num_simulations = 1000\n",
        "\n",
        "# Ask user to input the number of tasks\n",
        "num_tasks = int(input(\"Enter the number of tasks in the project: \"))\n",
        "\n",
        "# Create an empty list to store the task data\n",
        "tasks = []\n",
        "\n",
        "# Gather user input for each task's cost and duration\n",
        "for i in range(num_tasks):\n",
        "    print(f\"\\nTask {i + 1}\")\n",
        "\n",
        "    # Collect mean and standard deviation for cost\n",
        "    mean_cost = float(input(f\"Enter mean cost for Task {i + 1}: \"))\n",
        "    std_cost = float(input(f\"Enter standard deviation for cost for Task {i + 1}: \"))\n",
        "\n",
        "    # Collect mean and standard deviation for duration\n",
        "    mean_duration = float(input(f\"Enter mean duration for Task {i + 1} (days): \"))\n",
        "    std_duration = float(input(f\"Enter standard deviation for duration for Task {i + 1} (days): \"))\n",
        "\n",
        "    # Append the task data (mean_cost, std_cost, mean_duration, std_duration) to tasks list\n",
        "    tasks.append((mean_cost, std_cost, mean_duration, std_duration))\n",
        "\n",
        "# Arrays to store the total cost and duration from each simulation\n",
        "total_costs = np.zeros(num_simulations)\n",
        "total_durations = np.zeros(num_simulations)\n",
        "\n",
        "# Monte Carlo simulation\n",
        "for i in range(num_simulations):\n",
        "    total_cost = 0\n",
        "    total_duration = 0\n",
        "\n",
        "    # Simulate each task's cost and duration\n",
        "    for task in tasks:\n",
        "        mean_cost, std_cost, mean_duration, std_duration = task\n",
        "\n",
        "        # Sample from normal distribution for cost and duration\n",
        "        simulated_cost = np.random.normal(mean_cost, std_cost)\n",
        "        simulated_duration = np.random.normal(mean_duration, std_duration)\n",
        "\n",
        "        # Accumulate total cost and duration\n",
        "        total_cost += simulated_cost\n",
        "        total_duration += simulated_duration\n",
        "\n",
        "    # Store the total cost and duration for this simulation\n",
        "    total_costs[i] = total_cost\n",
        "    total_durations[i] = total_duration\n",
        "\n",
        "# Plot histograms of total costs and durations\n",
        "plt.figure(figsize=(12, 5))\n",
        "\n",
        "# Total cost histogram\n",
        "plt.subplot(1, 2, 1)\n",
        "plt.hist(total_costs, bins=30, color='skyblue', edgecolor='black')\n",
        "plt.title('Distribution of Total Project Costs')\n",
        "plt.xlabel('Total Cost')\n",
        "plt.ylabel('Frequency')\n",
        "\n",
        "# Total duration histogram\n",
        "plt.subplot(1, 2, 2)\n",
        "plt.hist(total_durations, bins=30, color='lightgreen', edgecolor='black')\n",
        "plt.title('Distribution of Total Project Durations')\n",
        "plt.xlabel('Total Duration (days)')\n",
        "plt.ylabel('Frequency')\n",
        "\n",
        "plt.tight_layout()\n",
        "plt.show()\n",
        "\n",
        "# Calculate and display summary statistics\n",
        "print(f\"Estimated Project Cost (Mean): {np.mean(total_costs):.2f}\")\n",
        "print(f\"Estimated Project Duration (Mean): {np.mean(total_durations):.2f} days\")\n",
        "print(f\"Cost 95% Confidence Interval: {np.percentile(total_costs, [2.5, 97.5])}\")\n",
        "print(f\"Duration 95% Confidence Interval: {np.percentile(total_durations, [2.5, 97.5])}\")\n"
      ]
    }
  ]
}